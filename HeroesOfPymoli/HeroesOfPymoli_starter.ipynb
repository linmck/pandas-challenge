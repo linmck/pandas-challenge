{
 "cells": [
  {
   "cell_type": "code",
   "execution_count": null,
   "metadata": {},
   "outputs": [],
   "source": [
    "#Import dependencies\n",
    "import pandas as pd\n",
    "import numpy as np\n",
    "import os\n",
    "import csv"
   ]
  },
  {
   "cell_type": "code",
   "execution_count": null,
   "metadata": {},
   "outputs": [],
   "source": [
    "#Connect data source to notebook\n",
    "#Define path to purchase data file\n",
    "purchase_data_path = os.path.join('Resources','purchase_data.csv')\n",
    "\n",
    "#Read Purchasing File and store into Pandas data frame\n",
    "purchase_data = pd.read_csv(file_to_load)\n",
    "\n",
    "#Create a dataframe of only the unique players\n",
    "deduped = pd.DataFrame(purchase_data.drop_duplicates(subset ='SN')) "
   ]
  },
  {
   "cell_type": "markdown",
   "metadata": {},
   "source": [
    "## Player Count"
   ]
  },
  {
   "cell_type": "code",
   "execution_count": null,
   "metadata": {},
   "outputs": [],
   "source": [
    "#Calculate the unique number of players\n",
    "tot_players = len(deduped[\"SN\"])\n",
    "\n",
    "#Create a dataframe to display the total number of unique players\n",
    "tot_players_df = pd.DataFrame({\"Total Players\": [tot_players]})\n",
    "\n",
    "#Print total player dataframe\n",
    "tot_players_df"
   ]
  },
  {
   "cell_type": "markdown",
   "metadata": {},
   "source": [
    "## Purchasing Analysis (Total)"
   ]
  },
  {
   "cell_type": "code",
   "execution_count": null,
   "metadata": {},
   "outputs": [],
   "source": [
    "#Create summary data frame with \n",
    "# - Unique items\n",
    "# - Average price,\n",
    "# - Total number of purchases\n",
    "# - Total revenue\n",
    "\n",
    "#Create a dataframe to hold the purchase analysis\n",
    "purchase_summary = pd.DataFrame({\"Unique Items\":[len(purchase_data[\"Item ID\"].unique())],\n",
    "                                \"Average Price\":['${:,.2f}'.format(purchase_data[\"Price\"].mean())],\n",
    "                                \"Number of Purchases\":[len(purchase_data[\"Purchase ID\"].unique())],\n",
    "                                \"Total Revenue\":['${:,.2f}'.format(purchase_data[\"Price\"].sum())]})\n",
    "#Print the purchase analysis\n",
    "purchase_summary"
   ]
  },
  {
   "cell_type": "markdown",
   "metadata": {},
   "source": [
    "## Gender Demographics"
   ]
  },
  {
   "cell_type": "code",
   "execution_count": null,
   "metadata": {},
   "outputs": [],
   "source": [
    "#Group deduped dataframe by Gender\n",
    "deduped_gender_grouped = deduped.groupby(\"Gender\")\n",
    "\n",
    "#Calculate total count of gender for deduped data\n",
    "deduped_gender_count = deduped_gender_grouped[\"SN\"].count()\n",
    "\n",
    "#Find the counts of each Gender \n",
    "unique_males = deduped_gender_count[\"Female\"]\n",
    "unique_females = deduped_gender_count[\"Male\"]\n",
    "unique_others = deduped_gender_count[\"Other / Non-Disclosed\"]\n",
    "\n",
    "#Calculate the percentage of each Gender\n",
    "prct_male = '{:,.2%}'.format(unique_males / tot_players)\n",
    "prct_female = '{:,.2%}'.format(unique_females / tot_players)\n",
    "prct_other = '{:,.2%}'.format(unique_others / tot_players)\n",
    "\n",
    "#Create list for dataframe\n",
    "gender_data = [['Male', unique_males, prct_male],\n",
    "               ['Female', unique_females, prct_female],\n",
    "               ['Other/Non-Disclosed', unique_others, prct_other]] \n",
    "\n",
    "#Create gender summary dataframe\n",
    "gender_user_summary = pd.DataFrame(gender_data, \n",
    "                                   columns = ['Gender', 'Count', 'Percentage']) \n",
    "\n",
    "#Set dataframe index as gender\n",
    "gender_user_summary = gender_user_summary.set_index('Gender')\n",
    "\n",
    "#Print gender summary\n",
    "gender_user_summary"
   ]
  },
  {
   "cell_type": "markdown",
   "metadata": {},
   "source": [
    "\n",
    "## Purchasing Analysis (Gender)"
   ]
  },
  {
   "cell_type": "code",
   "execution_count": null,
   "metadata": {},
   "outputs": [],
   "source": [
    "#Group original dataframe by Gender\n",
    "gender_grouped = purchase_data.groupby(\"Gender\")\n",
    "\n",
    "#Get total and by gender purchase counts \n",
    "gender_purchase = gender_grouped[\"Purchase ID\"].count()\n",
    "female_purchase = gender_purchase[\"Female\"]\n",
    "male_purchase = gender_purchase[\"Male\"]\n",
    "other_purchase = gender_purchase[\"Other / Non-Disclosed\"]\n",
    "\n",
    "#Get overall and by gender mean/average prices \n",
    "gender_avg_price = gender_grouped[\"Price\"].mean()\n",
    "female_avg_price = '${:,.2f}'.format(gender_avg_price[\"Female\"])\n",
    "male_avg_price = '${:,.2f}'.format(gender_avg_price[\"Male\"])\n",
    "other_avg_price = '${:,.2f}'.format(gender_avg_price[\"Other / Non-Disclosed\"])\n",
    "\n",
    "#Get overall and by gender total purchase values \n",
    "gender_tot_purchase = gender_grouped[\"Price\"].sum()\n",
    "female_tot_purchase = '${:,.2f}'.format(gender_tot_purchase[\"Female\"])\n",
    "male_tot_purchase = '${:,.2f}'.format(gender_tot_purchase[\"Male\"])\n",
    "other_tot_purchase = '${:,.2f}'.format(gender_tot_purchase[\"Other / Non-Disclosed\"])\n",
    "\n",
    "#Get overall and by gender mean/average purchase value \n",
    "gender_avg_purchases = (gender_grouped[\"Price\"].sum() / deduped_gender_count)\n",
    "female_avg_purchase = '${:,.2f}'.format(gender_avg_purchases[\"Female\"])\n",
    "male_avg_purchase = '${:,.2f}'.format(gender_avg_purchases[\"Male\"])\n",
    "other_avg_purchase = '${:,.2f}'.format(gender_avg_purchases[\"Other / Non-Disclosed\"])\n",
    "\n",
    "#Create list for dataframe\n",
    "gender_purchase_analysis = [\n",
    "    ['Male',\n",
    "     male_purchase, \n",
    "     male_avg_price, \n",
    "     male_tot_purchase, \n",
    "     male_avg_purchase],\n",
    "    ['Female',\n",
    "     female_purchase,\n",
    "     female_avg_price,\n",
    "     female_tot_purchase,\n",
    "     female_avg_purchase],\n",
    "    ['Other/Non-Disclosed',\n",
    "     other_purchase,\n",
    "     other_avg_price,\n",
    "     other_tot_purchase,\n",
    "     other_avg_purchase]]\n",
    "\n",
    "#Create gender analysis summary dataframe\n",
    "gender_purchase_summary = pd.DataFrame(gender_purchase_analysis,\n",
    "                                       columns = ['Gender', 'Purchase Count', \n",
    "                                                  'Avg Purchase Price',\n",
    "                                                  'Total Purchase Value', \n",
    "                                                  'Avg Total Purchase per Person' ]) \n",
    "#Set dataframe index as gender\n",
    "gender_purchase_summary = gender_purchase_summary.set_index('Gender')\n",
    "\n",
    "#Print gender analysis summary\n",
    "gender_purchase_summary.head()"
   ]
  },
  {
   "cell_type": "markdown",
   "metadata": {},
   "source": [
    "## Age Demographics"
   ]
  },
  {
   "cell_type": "code",
   "execution_count": null,
   "metadata": {},
   "outputs": [],
   "source": [
    "# Create the age bins   \n",
    "bins = [0, 9, 14, 19, 24, 29, 34, 39, 45]\n",
    "\n",
    "# Create the names for the age bins\n",
    "age_groups = ['<10', '10-14', '15-19', '20-24', '25-29', '30-34', '35-39', '40+']\n",
    "\n",
    "#Add age group to deduped dataframe\n",
    "deduped['Age Group'] = pd.cut(deduped['Age'], bins, labels=age_groups)\n",
    "\n",
    "#Add age group to purchase data dataframe\n",
    "purchase_data['Age Group'] = pd.cut(purchase_data['Age'], bins, labels=age_groups)\n",
    "\n",
    "#Group deduped df by age groups\n",
    "age_group_group = deduped.groupby('Age Group')\n",
    "\n",
    "#Find the counts of each Gender \n",
    "age_group_counts = age_group_group['Age Group'].count()\n",
    "age_count_1 = age_group_counts[\"<10\"]\n",
    "age_count_2 = age_group_counts[\"10-14\"]\n",
    "age_count_3 = age_group_counts[\"15-19\"]\n",
    "age_count_4 = age_group_counts[\"20-24\"]\n",
    "age_count_5 = age_group_counts[\"25-29\"]\n",
    "age_count_6 = age_group_counts[\"30-34\"]\n",
    "age_count_7 = age_group_counts[\"35-39\"]\n",
    "age_count_8 = age_group_counts[\"40+\"]\n",
    "\n",
    "#Calculate the percentage of each age group\n",
    "prct_age_1 = '{:,.2%}'.format(age_count_1 / tot_players)\n",
    "prct_age_2 = '{:,.2%}'.format(age_count_2 / tot_players)\n",
    "prct_age_3 = '{:,.2%}'.format(age_count_3 / tot_players)\n",
    "prct_age_4 = '{:,.2%}'.format(age_count_4 / tot_players)\n",
    "prct_age_5 = '{:,.2%}'.format(age_count_5 / tot_players)\n",
    "prct_age_6 = '{:,.2%}'.format(age_count_6 / tot_players)\n",
    "prct_age_7 = '{:,.2%}'.format(age_count_7 / tot_players)\n",
    "prct_age_8 = '{:,.2%}'.format(age_count_8 / tot_players)\n",
    "\n",
    "#Create list for dataframe\n",
    "age_data = [['<10', age_count_1, prct_age_1],\n",
    "            ['10-14', age_count_2, prct_age_2], \n",
    "            ['15-19', age_count_3, prct_age_3],\n",
    "            ['20-24', age_count_4, prct_age_4],\n",
    "            ['25-29', age_count_5, prct_age_5],\n",
    "            ['30-34', age_count_6, prct_age_6],\n",
    "            ['35-39', age_count_7, prct_age_7],\n",
    "            ['40+', age_count_8, prct_age_8]]\n",
    "\n",
    "#Create gender summary dataframe\n",
    "age_user_summary = pd.DataFrame(age_data,\n",
    "                                columns = ['Age Group', 'Total Count', \n",
    "                                           'Percentage of Players']) \n",
    "age_user_summary = age_user_summary.set_index('Age Group')\n",
    "\n",
    "#Print gender summary\n",
    "age_user_summary"
   ]
  },
  {
   "cell_type": "markdown",
   "metadata": {},
   "source": [
    "## Purchasing Analysis (Age)"
   ]
  },
  {
   "cell_type": "code",
   "execution_count": null,
   "metadata": {},
   "outputs": [],
   "source": [
    "#Group original dataframe by age group\n",
    "age_grouped = purchase_data.groupby(\"Age Group\")\n",
    "\n",
    "#Get total and by age group purchase counts \n",
    "age_purchase = age_grouped[\"Purchase ID\"].count()\n",
    "age1_purchase = age_purchase[\"<10\"]\n",
    "age2_purchase = age_purchase[\"10-14\"]\n",
    "age3_purchase = age_purchase[\"15-19\"]\n",
    "age4_purchase = age_purchase[\"20-24\"]\n",
    "age5_purchase = age_purchase[\"25-29\"]\n",
    "age6_purchase = age_purchase[\"30-34\"]\n",
    "age7_purchase = age_purchase[\"35-39\"]\n",
    "age8_purchase = age_purchase[\"40+\"]\n",
    "\n",
    "#Get overall and by age group mean/average prices \n",
    "age_avg_price = age_grouped[\"Price\"].mean()\n",
    "age1_avg_price = '${:,.2f}'.format(age_avg_price[\"<10\"])\n",
    "age2_avg_price = '${:,.2f}'.format(age_avg_price[\"10-14\"])\n",
    "age3_avg_price = '${:,.2f}'.format(age_avg_price[\"15-19\"])\n",
    "age4_avg_price = '${:,.2f}'.format(age_avg_price[\"20-24\"])\n",
    "age5_avg_price = '${:,.2f}'.format(age_avg_price[\"25-29\"])\n",
    "age6_avg_price = '${:,.2f}'.format(age_avg_price[\"30-34\"])\n",
    "age7_avg_price = '${:,.2f}'.format(age_avg_price[\"35-39\"])\n",
    "age8_avg_price = '${:,.2f}'.format(age_avg_price[\"40+\"])\n",
    "\n",
    "#Get overall and by age group purchase values \n",
    "age_tot_purchase = age_grouped[\"Price\"].sum()\n",
    "age1_tot_purchase = '${:,.2f}'.format(age_tot_purchase[\"<10\"])\n",
    "age2_tot_purchase = '${:,.2f}'.format(age_tot_purchase[\"10-14\"])\n",
    "age3_tot_purchase = '${:,.2f}'.format(age_tot_purchase[\"15-19\"])\n",
    "age4_tot_purchase = '${:,.2f}'.format(age_tot_purchase[\"20-24\"])\n",
    "age5_tot_purchase = '${:,.2f}'.format(age_tot_purchase[\"25-29\"])\n",
    "age6_tot_purchase = '${:,.2f}'.format(age_tot_purchase[\"30-34\"])\n",
    "age7_tot_purchase = '${:,.2f}'.format(age_tot_purchase[\"35-39\"])\n",
    "age8_tot_purchase = '${:,.2f}'.format(age_tot_purchase[\"40+\"])\n",
    "\n",
    "#Get overall and by age group mean/average purchase value \n",
    "age_avg_purchases = (age_grouped[\"Price\"].sum() / age_group_counts)\n",
    "age1_avg_purchase = '${:,.2f}'.format(age_avg_purchases[\"<10\"])\n",
    "age2_avg_purchase = '${:,.2f}'.format(age_avg_purchases[\"10-14\"])\n",
    "age3_avg_purchase = '${:,.2f}'.format(age_avg_purchases[\"15-19\"])\n",
    "age4_avg_purchase = '${:,.2f}'.format(age_avg_purchases[\"20-24\"])\n",
    "age5_avg_purchase = '${:,.2f}'.format(age_avg_purchases[\"25-29\"])\n",
    "age6_avg_purchase = '${:,.2f}'.format(age_avg_purchases[\"30-34\"])\n",
    "age7_avg_purchase = '${:,.2f}'.format(age_avg_purchases[\"35-39\"])\n",
    "age8_avg_purchase = '${:,.2f}'.format(age_avg_purchases[\"40+\"])\n",
    "\n",
    "#Create list for dataframe\n",
    "age_purchase_analysis = [['<10', age1_purchase, age1_avg_price, age1_tot_purchase, age1_avg_purchase],\n",
    "               ['10-14', age2_purchase, age2_avg_price, age2_tot_purchase, age2_avg_purchase],\n",
    "               ['15-19', age3_purchase, age3_avg_price, age3_tot_purchase, age3_avg_purchase],\n",
    "               ['20-24', age4_purchase, age4_avg_price, age4_tot_purchase, age4_avg_purchase],\n",
    "               ['25-29', age5_purchase, age5_avg_price, age5_tot_purchase, age5_avg_purchase],\n",
    "               ['30-34', age6_purchase, age6_avg_price, age6_tot_purchase, age6_avg_purchase],\n",
    "               ['35-99', age7_purchase, age7_avg_price, age7_tot_purchase, age7_avg_purchase],\n",
    "               ['40+', age8_purchase, age8_avg_price, age8_tot_purchase, age8_avg_purchase]]\n",
    "\n",
    "#Create age group analysis summary dataframe\n",
    "age_purchase_summary = pd.DataFrame(age_purchase_analysis,\n",
    "                                    columns = ['Age Group', 'Purchase Count',\n",
    "                                               'Avg Purchase Price',\n",
    "                                               'Total Purchase Value',\n",
    "                                               'Avg Total Purchase per Person' ]) \n",
    "#Set dataframe index as age group\n",
    "age_purchase_summary = age_purchase_summary.set_index('Age Group')\n",
    "\n",
    "#Print age group analysis summary\n",
    "age_purchase_summary.head(8)"
   ]
  },
  {
   "cell_type": "markdown",
   "metadata": {},
   "source": [
    "## Top Spenders"
   ]
  },
  {
   "cell_type": "code",
   "execution_count": null,
   "metadata": {},
   "outputs": [],
   "source": [
    "#Group purchase data by SN\n",
    "sn_grouped = purchase_data.groupby(\"SN\")\n",
    "sn_group_data = sn_grouped['Price'].agg([np.sum, np.mean, np.size])\n",
    "\n",
    "# Create dataframe from SN group\n",
    "sn_df = pd.DataFrame(sn_group_data, columns = ['sum', 'mean', 'size'])\n",
    "\n",
    "#Format currency values as $ and remove decimal from the purchase count\n",
    "# sn_df['sum'] = sn_df['sum'].map('${:,.2f}'.format)\n",
    "sn_df['mean'] = sn_df['mean'].map('${:,.2f}'.format)\n",
    "sn_df['size'] = sn_df['size'].map('{:,.0f}'.format)\n",
    "\n",
    "#Rename and reorder columns\n",
    "sn_df = sn_df.rename(columns={'size':'Purchase Count', 'mean':'Average Purchase Price','sum':'Total Purchase Value'})\n",
    "sn_df = sn_df[['Purchase Count','Average Purchase Price','Total Purchase Value']]\n",
    "\n",
    "#Sort dataframe by Total Purchase Value - Descending\n",
    "sn_df = sn_df.sort_values('Total Purchase Value', ascending=False)\n",
    "\n",
    "#Print dataframe head\n",
    "sn_df.head()\n"
   ]
  },
  {
   "cell_type": "markdown",
   "metadata": {},
   "source": [
    "## Most Popular Items"
   ]
  },
  {
   "cell_type": "code",
   "execution_count": null,
   "metadata": {},
   "outputs": [],
   "source": [
    "#Group purchase data by Item ID and Item Name\n",
    "item_grouped = purchase_data.groupby(['Item ID', 'Item Name'])\n",
    "item_group_data = item_grouped['Price'].agg([np.size, 'first', np.sum])\n",
    "\n",
    "# Create dataframe from SN group\n",
    "item_df = pd.DataFrame(item_group_data)\n",
    "\n",
    "#Format currency values as $ and remove decimal from the purchase count\n",
    "item_df['size'] = item_df['size'].map('{:,.0f}'.format)\n",
    "item_df['first'] = item_df['first'].map('${:,.2f}'.format)\n",
    "\n",
    "#Rename and reorder columns\n",
    "item_df = item_df.rename(columns={'size':'Purchase Count', 'first':'Item Price','sum':'Total Purchase Value'})\n",
    "\n",
    "#Sort dataframe by Total Purchase Value - Descending\n",
    "popular = item_df.sort_values('Purchase Count', ascending=False)\n",
    "\n",
    "#Print dataframe head\n",
    "popular.head(5)"
   ]
  },
  {
   "cell_type": "markdown",
   "metadata": {},
   "source": [
    "## Most Profitable Items"
   ]
  },
  {
   "cell_type": "code",
   "execution_count": null,
   "metadata": {
    "scrolled": true
   },
   "outputs": [],
   "source": [
    "#Sort dataframe by Total Purchase Value - Descending\n",
    "profitable= item_df.sort_values('Total Purchase Value', ascending=False)\n",
    "\n",
    "#Print dataframe head\n",
    "profitable.head(5)"
   ]
  }
 ],
 "metadata": {
  "anaconda-cloud": {},
  "kernel_info": {
   "name": "python3"
  },
  "kernelspec": {
   "display_name": "Python 3",
   "language": "python",
   "name": "python3"
  },
  "language_info": {
   "codemirror_mode": {
    "name": "ipython",
    "version": 3
   },
   "file_extension": ".py",
   "mimetype": "text/x-python",
   "name": "python",
   "nbconvert_exporter": "python",
   "pygments_lexer": "ipython3",
   "version": "3.6.9"
  },
  "latex_envs": {
   "LaTeX_envs_menu_present": true,
   "autoclose": false,
   "autocomplete": true,
   "bibliofile": "biblio.bib",
   "cite_by": "apalike",
   "current_citInitial": 1,
   "eqLabelWithNumbers": true,
   "eqNumInitial": 1,
   "hotkeys": {
    "equation": "Ctrl-E",
    "itemize": "Ctrl-I"
   },
   "labels_anchors": false,
   "latex_user_defs": false,
   "report_style_numbering": false,
   "user_envs_cfg": false
  },
  "nteract": {
   "version": "0.2.0"
  }
 },
 "nbformat": 4,
 "nbformat_minor": 2
}
